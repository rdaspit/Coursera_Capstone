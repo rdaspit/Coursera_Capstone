{
    "nbformat_minor": 1, 
    "cells": [
        {
            "source": "# Longitude and Latitude of Toronto postalcodes -- merging dataframes", 
            "cell_type": "markdown", 
            "metadata": {}
        }, 
        {
            "source": "## Download longitude and latitude data", 
            "cell_type": "markdown", 
            "metadata": {}
        }, 
        {
            "execution_count": 27, 
            "cell_type": "code", 
            "metadata": {}, 
            "outputs": [
                {
                    "output_type": "stream", 
                    "name": "stdout", 
                    "text": "--2019-01-21 19:44:12--  https://cocl.us/Geospatial_data\nResolving cocl.us (cocl.us)... 169.48.113.201\nConnecting to cocl.us (cocl.us)|169.48.113.201|:443... connected.\nHTTP request sent, awaiting response... 301 Moved Permanently\nLocation: https://ibm.box.com/shared/static/9afzr83pps4pwf2smjjcf1y5mvgb18rr.csv [following]\n--2019-01-21 19:44:15--  https://ibm.box.com/shared/static/9afzr83pps4pwf2smjjcf1y5mvgb18rr.csv\nResolving ibm.box.com (ibm.box.com)... 107.152.24.197, 107.152.25.197\nConnecting to ibm.box.com (ibm.box.com)|107.152.24.197|:443... connected.\nHTTP request sent, awaiting response... 301 Moved Permanently\nLocation: https://ibm.ent.box.com/shared/static/9afzr83pps4pwf2smjjcf1y5mvgb18rr.csv [following]\n--2019-01-21 19:44:15--  https://ibm.ent.box.com/shared/static/9afzr83pps4pwf2smjjcf1y5mvgb18rr.csv\nResolving ibm.ent.box.com (ibm.ent.box.com)... 107.152.27.211\nConnecting to ibm.ent.box.com (ibm.ent.box.com)|107.152.27.211|:443... connected.\nHTTP request sent, awaiting response... 302 Found\nLocation: https://public.boxcloud.com/d/1/b1!9MrG9RwIEY5AYeWoTVzuDRf2jVFR4HCOJZJ9WrdytRGZm25fnfwZnCBjzc4WdpooR0NPellL732IyH_nIs2aw0YQVP0dOggQqqLLhE6xZBMZdfO21QRyXh7mz4MEC6bxJBzv9FloOKb0ONXO3QeAr_BMUF4y6fQkHVjC5CL5UyYavb0ILGRkmusJp2HM5yUt17Khq-xpsmFfLCHdkN0y05HMRi6g9ZDpRUjigS06-kJVqdWbkOlvPY2ZK1LpQYHSr61mYoUhnexSJVlWg8tmGrDORLTMZ33aih_aSS_LbudBo0fT_T1hCMy-oirPybM2eqd8bBFiudRNoy7Sjw-K51ZDVA2hmQUbtB80TWDQsgGqIz-AsCjLMw-jWs8fhsHOMokS7HcHUn0d6tBsTle4namQMS_xHv0dZrrA_gL_gLta7D6di0ezzbxbHfqMSqi8jZfy0H7PTVAv9dJ1weSapYBxBV64ym8UEf5zlYmEMqDNy9ZI5oFdjXc3GeW7xj0gONAMn3tPeeiwYdEW-WkLH_F0hCmeZbOwhhQuFI6Cy9yYD8AirXCTNKAZ_XgqnJXkHg4dl97sqrjpB-WdH4Gc3MU0TB1seNC89Vloll81T8Ja-3K0vRX0mevqdmUnx8k67nOVZrSlLNxOTdm4EO-khhLYMwU0DmnrEB7BsxcGCRvLesvlFLA8a228MDqP_xjjJu7_UhLFXKG8zYFFoBQwceVxzjPXFPTbXoJItKzKBCv1lWT7Ux6XrGcKS7PURnSYc9yMf4naOcu1KJtas8r_-jcOUCmgNhnP0aXKWVyrH1_Pd5iWd-OLIxJ0WWpH9NKC8QzHhlaVOF0NbTAe1wyTxKT7ojGKndPQG3dtwGY_58y21mp645g7g1mDYy6cy04v9wODCQCFNZU1W1aDmPnsuwdECrFDOWoGJJMQpgWgdVxJyCQaav63zSfJfIYfu1Xwzxbp8Vr5W6VkyUX5KuP5iNC_cnH25-pY3a3VHXAN47GeUBdGD6-OQgORVM7ME4CouSdnosesGi0vjP5R0RWwjNMM6sbX4hBYEFB9wHaiuurC0iUk1zf732CseFArGEgnsDWezyi642s3qSpODJR6-5BiJusqv91S4cwFaJXjDtR-tMynX-LqTXWBw732e5o7gXIWwlVienHU1uz_oh8LcTFrvSPfmj3b_qKdxCdVldQvF3DbMeza76JATpb14zsE-FcNvl-n0kO2gy4gK1Z-xRYl7PEqC18BE6EGmBMsDTLBrYopojRAwjfwqq5K7bR5mbt7c6K-cSFJeB_Wbcp7WP5FufOjMMiLnhbyKIP817TxBpNifW77pIYBdBPARzuUaaaYQAjaVqazDfSw7n3U6hvwJJuewpiN7TQkGvijp4I0rZQl/download [following]\n--2019-01-21 19:44:17--  https://public.boxcloud.com/d/1/b1!9MrG9RwIEY5AYeWoTVzuDRf2jVFR4HCOJZJ9WrdytRGZm25fnfwZnCBjzc4WdpooR0NPellL732IyH_nIs2aw0YQVP0dOggQqqLLhE6xZBMZdfO21QRyXh7mz4MEC6bxJBzv9FloOKb0ONXO3QeAr_BMUF4y6fQkHVjC5CL5UyYavb0ILGRkmusJp2HM5yUt17Khq-xpsmFfLCHdkN0y05HMRi6g9ZDpRUjigS06-kJVqdWbkOlvPY2ZK1LpQYHSr61mYoUhnexSJVlWg8tmGrDORLTMZ33aih_aSS_LbudBo0fT_T1hCMy-oirPybM2eqd8bBFiudRNoy7Sjw-K51ZDVA2hmQUbtB80TWDQsgGqIz-AsCjLMw-jWs8fhsHOMokS7HcHUn0d6tBsTle4namQMS_xHv0dZrrA_gL_gLta7D6di0ezzbxbHfqMSqi8jZfy0H7PTVAv9dJ1weSapYBxBV64ym8UEf5zlYmEMqDNy9ZI5oFdjXc3GeW7xj0gONAMn3tPeeiwYdEW-WkLH_F0hCmeZbOwhhQuFI6Cy9yYD8AirXCTNKAZ_XgqnJXkHg4dl97sqrjpB-WdH4Gc3MU0TB1seNC89Vloll81T8Ja-3K0vRX0mevqdmUnx8k67nOVZrSlLNxOTdm4EO-khhLYMwU0DmnrEB7BsxcGCRvLesvlFLA8a228MDqP_xjjJu7_UhLFXKG8zYFFoBQwceVxzjPXFPTbXoJItKzKBCv1lWT7Ux6XrGcKS7PURnSYc9yMf4naOcu1KJtas8r_-jcOUCmgNhnP0aXKWVyrH1_Pd5iWd-OLIxJ0WWpH9NKC8QzHhlaVOF0NbTAe1wyTxKT7ojGKndPQG3dtwGY_58y21mp645g7g1mDYy6cy04v9wODCQCFNZU1W1aDmPnsuwdECrFDOWoGJJMQpgWgdVxJyCQaav63zSfJfIYfu1Xwzxbp8Vr5W6VkyUX5KuP5iNC_cnH25-pY3a3VHXAN47GeUBdGD6-OQgORVM7ME4CouSdnosesGi0vjP5R0RWwjNMM6sbX4hBYEFB9wHaiuurC0iUk1zf732CseFArGEgnsDWezyi642s3qSpODJR6-5BiJusqv91S4cwFaJXjDtR-tMynX-LqTXWBw732e5o7gXIWwlVienHU1uz_oh8LcTFrvSPfmj3b_qKdxCdVldQvF3DbMeza76JATpb14zsE-FcNvl-n0kO2gy4gK1Z-xRYl7PEqC18BE6EGmBMsDTLBrYopojRAwjfwqq5K7bR5mbt7c6K-cSFJeB_Wbcp7WP5FufOjMMiLnhbyKIP817TxBpNifW77pIYBdBPARzuUaaaYQAjaVqazDfSw7n3U6hvwJJuewpiN7TQkGvijp4I0rZQl/download\nResolving public.boxcloud.com (public.boxcloud.com)... 107.152.24.200, 107.152.25.200\nConnecting to public.boxcloud.com (public.boxcloud.com)|107.152.24.200|:443... connected.\nHTTP request sent, awaiting response... 200 OK\nLength: 2891 (2.8K) [text/csv]\nSaving to: \u2018toronto_postalcode_lat_long.csv\u2019\n\n100%[======================================>] 2,891       --.-K/s   in 0s      \n\n2019-01-21 19:44:17 (491 MB/s) - \u2018toronto_postalcode_lat_long.csv\u2019 saved [2891/2891]\n\nDownloaded\n"
                }
            ], 
            "source": "!wget -O toronto_postalcode_lat_long.csv https://cocl.us/Geospatial_data\nprint(\"Downloaded\")"
        }, 
        {
            "source": "## Import modules", 
            "cell_type": "markdown", 
            "metadata": {}
        }, 
        {
            "execution_count": 28, 
            "cell_type": "code", 
            "metadata": {}, 
            "outputs": [], 
            "source": "import pandas as pd"
        }, 
        {
            "source": "## Read in CSV file for long/lat", 
            "cell_type": "markdown", 
            "metadata": {}
        }, 
        {
            "execution_count": 29, 
            "cell_type": "code", 
            "metadata": {}, 
            "outputs": [], 
            "source": "df2 = pd.read_csv('toronto_postalcode_lat_long.csv')"
        }, 
        {
            "execution_count": 30, 
            "cell_type": "code", 
            "metadata": {}, 
            "outputs": [
                {
                    "execution_count": 30, 
                    "metadata": {}, 
                    "data": {
                        "text/html": "<div>\n<style scoped>\n    .dataframe tbody tr th:only-of-type {\n        vertical-align: middle;\n    }\n\n    .dataframe tbody tr th {\n        vertical-align: top;\n    }\n\n    .dataframe thead th {\n        text-align: right;\n    }\n</style>\n<table border=\"1\" class=\"dataframe\">\n  <thead>\n    <tr style=\"text-align: right;\">\n      <th></th>\n      <th>Postal Code</th>\n      <th>Latitude</th>\n      <th>Longitude</th>\n    </tr>\n  </thead>\n  <tbody>\n    <tr>\n      <th>0</th>\n      <td>M1B</td>\n      <td>43.806686</td>\n      <td>-79.194353</td>\n    </tr>\n    <tr>\n      <th>1</th>\n      <td>M1C</td>\n      <td>43.784535</td>\n      <td>-79.160497</td>\n    </tr>\n    <tr>\n      <th>2</th>\n      <td>M1E</td>\n      <td>43.763573</td>\n      <td>-79.188711</td>\n    </tr>\n    <tr>\n      <th>3</th>\n      <td>M1G</td>\n      <td>43.770992</td>\n      <td>-79.216917</td>\n    </tr>\n    <tr>\n      <th>4</th>\n      <td>M1H</td>\n      <td>43.773136</td>\n      <td>-79.239476</td>\n    </tr>\n  </tbody>\n</table>\n</div>", 
                        "text/plain": "  Postal Code   Latitude  Longitude\n0         M1B  43.806686 -79.194353\n1         M1C  43.784535 -79.160497\n2         M1E  43.763573 -79.188711\n3         M1G  43.770992 -79.216917\n4         M1H  43.773136 -79.239476"
                    }, 
                    "output_type": "execute_result"
                }
            ], 
            "source": "df2.head()"
        }, 
        {
            "source": "## Reassign columns", 
            "cell_type": "markdown", 
            "metadata": {}
        }, 
        {
            "execution_count": 31, 
            "cell_type": "code", 
            "metadata": {}, 
            "outputs": [
                {
                    "execution_count": 31, 
                    "metadata": {}, 
                    "data": {
                        "text/html": "<div>\n<style scoped>\n    .dataframe tbody tr th:only-of-type {\n        vertical-align: middle;\n    }\n\n    .dataframe tbody tr th {\n        vertical-align: top;\n    }\n\n    .dataframe thead th {\n        text-align: right;\n    }\n</style>\n<table border=\"1\" class=\"dataframe\">\n  <thead>\n    <tr style=\"text-align: right;\">\n      <th></th>\n      <th>postalcode</th>\n      <th>latitude</th>\n      <th>longitude</th>\n    </tr>\n  </thead>\n  <tbody>\n    <tr>\n      <th>0</th>\n      <td>M1B</td>\n      <td>43.806686</td>\n      <td>-79.194353</td>\n    </tr>\n    <tr>\n      <th>1</th>\n      <td>M1C</td>\n      <td>43.784535</td>\n      <td>-79.160497</td>\n    </tr>\n    <tr>\n      <th>2</th>\n      <td>M1E</td>\n      <td>43.763573</td>\n      <td>-79.188711</td>\n    </tr>\n    <tr>\n      <th>3</th>\n      <td>M1G</td>\n      <td>43.770992</td>\n      <td>-79.216917</td>\n    </tr>\n    <tr>\n      <th>4</th>\n      <td>M1H</td>\n      <td>43.773136</td>\n      <td>-79.239476</td>\n    </tr>\n  </tbody>\n</table>\n</div>", 
                        "text/plain": "  postalcode   latitude  longitude\n0        M1B  43.806686 -79.194353\n1        M1C  43.784535 -79.160497\n2        M1E  43.763573 -79.188711\n3        M1G  43.770992 -79.216917\n4        M1H  43.773136 -79.239476"
                    }, 
                    "output_type": "execute_result"
                }
            ], 
            "source": "df2.columns = ['postalcode', 'latitude', 'longitude']\ndf2.head()"
        }, 
        {
            "source": "## Get data from previous notebook via CSV file exported", 
            "cell_type": "markdown", 
            "metadata": {}
        }, 
        {
            "execution_count": 32, 
            "cell_type": "code", 
            "metadata": {}, 
            "outputs": [], 
            "source": "df_previous = pd.read_csv('toronto_post_bor_neigh.csv')"
        }, 
        {
            "execution_count": 33, 
            "cell_type": "code", 
            "metadata": {}, 
            "outputs": [
                {
                    "execution_count": 33, 
                    "metadata": {}, 
                    "data": {
                        "text/html": "<div>\n<style scoped>\n    .dataframe tbody tr th:only-of-type {\n        vertical-align: middle;\n    }\n\n    .dataframe tbody tr th {\n        vertical-align: top;\n    }\n\n    .dataframe thead th {\n        text-align: right;\n    }\n</style>\n<table border=\"1\" class=\"dataframe\">\n  <thead>\n    <tr style=\"text-align: right;\">\n      <th></th>\n      <th>Unnamed: 0</th>\n      <th>postalcode</th>\n      <th>borough</th>\n      <th>neighborhood</th>\n    </tr>\n  </thead>\n  <tbody>\n    <tr>\n      <th>0</th>\n      <td>0</td>\n      <td>M3A</td>\n      <td>North York</td>\n      <td>Parkwoods</td>\n    </tr>\n    <tr>\n      <th>1</th>\n      <td>1</td>\n      <td>M4A</td>\n      <td>North York</td>\n      <td>Victoria Village</td>\n    </tr>\n    <tr>\n      <th>2</th>\n      <td>2</td>\n      <td>M5A</td>\n      <td>Downtown Toronto</td>\n      <td>Harbourfront,Regent Park</td>\n    </tr>\n    <tr>\n      <th>3</th>\n      <td>3</td>\n      <td>M6A</td>\n      <td>North York</td>\n      <td>Lawrence Heights,Lawrence Manor</td>\n    </tr>\n    <tr>\n      <th>4</th>\n      <td>4</td>\n      <td>Queen's Park</td>\n      <td>Queen's Park</td>\n      <td>Queen's Park</td>\n    </tr>\n  </tbody>\n</table>\n</div>", 
                        "text/plain": "   Unnamed: 0    postalcode           borough                     neighborhood\n0           0           M3A        North York                        Parkwoods\n1           1           M4A        North York                 Victoria Village\n2           2           M5A  Downtown Toronto         Harbourfront,Regent Park\n3           3           M6A        North York  Lawrence Heights,Lawrence Manor\n4           4  Queen's Park      Queen's Park                     Queen's Park"
                    }, 
                    "output_type": "execute_result"
                }
            ], 
            "source": "df_previous.head()"
        }, 
        {
            "source": "## Merge two dataframes together on postalcode column", 
            "cell_type": "markdown", 
            "metadata": {}
        }, 
        {
            "execution_count": 34, 
            "cell_type": "code", 
            "metadata": {}, 
            "outputs": [], 
            "source": "df_new = pd.merge(df_previous, df2, on='postalcode')"
        }, 
        {
            "execution_count": 35, 
            "cell_type": "code", 
            "metadata": {}, 
            "outputs": [
                {
                    "execution_count": 35, 
                    "metadata": {}, 
                    "data": {
                        "text/html": "<div>\n<style scoped>\n    .dataframe tbody tr th:only-of-type {\n        vertical-align: middle;\n    }\n\n    .dataframe tbody tr th {\n        vertical-align: top;\n    }\n\n    .dataframe thead th {\n        text-align: right;\n    }\n</style>\n<table border=\"1\" class=\"dataframe\">\n  <thead>\n    <tr style=\"text-align: right;\">\n      <th></th>\n      <th>Unnamed: 0</th>\n      <th>postalcode</th>\n      <th>borough</th>\n      <th>neighborhood</th>\n      <th>latitude</th>\n      <th>longitude</th>\n    </tr>\n  </thead>\n  <tbody>\n    <tr>\n      <th>0</th>\n      <td>0</td>\n      <td>M3A</td>\n      <td>North York</td>\n      <td>Parkwoods</td>\n      <td>43.753259</td>\n      <td>-79.329656</td>\n    </tr>\n    <tr>\n      <th>1</th>\n      <td>1</td>\n      <td>M4A</td>\n      <td>North York</td>\n      <td>Victoria Village</td>\n      <td>43.725882</td>\n      <td>-79.315572</td>\n    </tr>\n    <tr>\n      <th>2</th>\n      <td>2</td>\n      <td>M5A</td>\n      <td>Downtown Toronto</td>\n      <td>Harbourfront,Regent Park</td>\n      <td>43.654260</td>\n      <td>-79.360636</td>\n    </tr>\n    <tr>\n      <th>3</th>\n      <td>3</td>\n      <td>M6A</td>\n      <td>North York</td>\n      <td>Lawrence Heights,Lawrence Manor</td>\n      <td>43.718518</td>\n      <td>-79.464763</td>\n    </tr>\n    <tr>\n      <th>4</th>\n      <td>5</td>\n      <td>M9A</td>\n      <td>Etobicoke</td>\n      <td>Islington Avenue</td>\n      <td>43.667856</td>\n      <td>-79.532242</td>\n    </tr>\n  </tbody>\n</table>\n</div>", 
                        "text/plain": "   Unnamed: 0 postalcode           borough                     neighborhood  \\\n0           0        M3A        North York                        Parkwoods   \n1           1        M4A        North York                 Victoria Village   \n2           2        M5A  Downtown Toronto         Harbourfront,Regent Park   \n3           3        M6A        North York  Lawrence Heights,Lawrence Manor   \n4           5        M9A         Etobicoke                 Islington Avenue   \n\n    latitude  longitude  \n0  43.753259 -79.329656  \n1  43.725882 -79.315572  \n2  43.654260 -79.360636  \n3  43.718518 -79.464763  \n4  43.667856 -79.532242  "
                    }, 
                    "output_type": "execute_result"
                }
            ], 
            "source": "df_new.head()"
        }, 
        {
            "execution_count": 36, 
            "cell_type": "code", 
            "metadata": {}, 
            "outputs": [
                {
                    "execution_count": 36, 
                    "metadata": {}, 
                    "data": {
                        "text/plain": "Index(['Unnamed: 0', 'postalcode', 'borough', 'neighborhood', 'latitude',\n       'longitude'],\n      dtype='object')"
                    }, 
                    "output_type": "execute_result"
                }
            ], 
            "source": "df_new.columns"
        }, 
        {
            "source": "### Drop previous index column which is unneeded.", 
            "cell_type": "markdown", 
            "metadata": {}
        }, 
        {
            "execution_count": 37, 
            "cell_type": "code", 
            "metadata": {}, 
            "outputs": [], 
            "source": "df_new = df_new.drop('Unnamed: 0', axis=1)"
        }, 
        {
            "execution_count": 38, 
            "cell_type": "code", 
            "metadata": {}, 
            "outputs": [
                {
                    "execution_count": 38, 
                    "metadata": {}, 
                    "data": {
                        "text/html": "<div>\n<style scoped>\n    .dataframe tbody tr th:only-of-type {\n        vertical-align: middle;\n    }\n\n    .dataframe tbody tr th {\n        vertical-align: top;\n    }\n\n    .dataframe thead th {\n        text-align: right;\n    }\n</style>\n<table border=\"1\" class=\"dataframe\">\n  <thead>\n    <tr style=\"text-align: right;\">\n      <th></th>\n      <th>postalcode</th>\n      <th>borough</th>\n      <th>neighborhood</th>\n      <th>latitude</th>\n      <th>longitude</th>\n    </tr>\n  </thead>\n  <tbody>\n    <tr>\n      <th>0</th>\n      <td>M3A</td>\n      <td>North York</td>\n      <td>Parkwoods</td>\n      <td>43.753259</td>\n      <td>-79.329656</td>\n    </tr>\n    <tr>\n      <th>1</th>\n      <td>M4A</td>\n      <td>North York</td>\n      <td>Victoria Village</td>\n      <td>43.725882</td>\n      <td>-79.315572</td>\n    </tr>\n    <tr>\n      <th>2</th>\n      <td>M5A</td>\n      <td>Downtown Toronto</td>\n      <td>Harbourfront,Regent Park</td>\n      <td>43.654260</td>\n      <td>-79.360636</td>\n    </tr>\n    <tr>\n      <th>3</th>\n      <td>M6A</td>\n      <td>North York</td>\n      <td>Lawrence Heights,Lawrence Manor</td>\n      <td>43.718518</td>\n      <td>-79.464763</td>\n    </tr>\n    <tr>\n      <th>4</th>\n      <td>M9A</td>\n      <td>Etobicoke</td>\n      <td>Islington Avenue</td>\n      <td>43.667856</td>\n      <td>-79.532242</td>\n    </tr>\n    <tr>\n      <th>5</th>\n      <td>M1B</td>\n      <td>Scarborough</td>\n      <td>Rouge,Malvern</td>\n      <td>43.806686</td>\n      <td>-79.194353</td>\n    </tr>\n    <tr>\n      <th>6</th>\n      <td>M3B</td>\n      <td>North York</td>\n      <td>Don Mills North</td>\n      <td>43.745906</td>\n      <td>-79.352188</td>\n    </tr>\n    <tr>\n      <th>7</th>\n      <td>M4B</td>\n      <td>East York</td>\n      <td>Woodbine Gardens,Parkview Hill</td>\n      <td>43.706397</td>\n      <td>-79.309937</td>\n    </tr>\n    <tr>\n      <th>8</th>\n      <td>M5B</td>\n      <td>Downtown Toronto</td>\n      <td>Ryerson,Garden District</td>\n      <td>43.657162</td>\n      <td>-79.378937</td>\n    </tr>\n    <tr>\n      <th>9</th>\n      <td>M6B</td>\n      <td>North York</td>\n      <td>Glencairn</td>\n      <td>43.709577</td>\n      <td>-79.445073</td>\n    </tr>\n    <tr>\n      <th>10</th>\n      <td>M9B</td>\n      <td>Etobicoke</td>\n      <td>Cloverdale,Islington,Martin Grove,Princess Gar...</td>\n      <td>43.650943</td>\n      <td>-79.554724</td>\n    </tr>\n    <tr>\n      <th>11</th>\n      <td>M1C</td>\n      <td>Scarborough</td>\n      <td>Highland Creek,Rouge Hill,Port Union</td>\n      <td>43.784535</td>\n      <td>-79.160497</td>\n    </tr>\n    <tr>\n      <th>12</th>\n      <td>M3C</td>\n      <td>North York</td>\n      <td>Flemingdon Park,Don Mills South</td>\n      <td>43.725900</td>\n      <td>-79.340923</td>\n    </tr>\n    <tr>\n      <th>13</th>\n      <td>M4C</td>\n      <td>East York</td>\n      <td>Woodbine Heights</td>\n      <td>43.695344</td>\n      <td>-79.318389</td>\n    </tr>\n    <tr>\n      <th>14</th>\n      <td>M5C</td>\n      <td>Downtown Toronto</td>\n      <td>St. James Town</td>\n      <td>43.651494</td>\n      <td>-79.375418</td>\n    </tr>\n    <tr>\n      <th>15</th>\n      <td>M6C</td>\n      <td>York</td>\n      <td>Humewood-Cedarvale</td>\n      <td>43.693781</td>\n      <td>-79.428191</td>\n    </tr>\n    <tr>\n      <th>16</th>\n      <td>M9C</td>\n      <td>Etobicoke</td>\n      <td>Bloordale Gardens,Eringate,Markland Wood,Old B...</td>\n      <td>43.643515</td>\n      <td>-79.577201</td>\n    </tr>\n    <tr>\n      <th>17</th>\n      <td>M1E</td>\n      <td>Scarborough</td>\n      <td>Guildwood,Morningside,West Hill</td>\n      <td>43.763573</td>\n      <td>-79.188711</td>\n    </tr>\n    <tr>\n      <th>18</th>\n      <td>M4E</td>\n      <td>East Toronto</td>\n      <td>The Beaches</td>\n      <td>43.676357</td>\n      <td>-79.293031</td>\n    </tr>\n    <tr>\n      <th>19</th>\n      <td>M5E</td>\n      <td>Downtown Toronto</td>\n      <td>Berczy Park</td>\n      <td>43.644771</td>\n      <td>-79.373306</td>\n    </tr>\n    <tr>\n      <th>20</th>\n      <td>M6E</td>\n      <td>York</td>\n      <td>Caledonia-Fairbanks</td>\n      <td>43.689026</td>\n      <td>-79.453512</td>\n    </tr>\n    <tr>\n      <th>21</th>\n      <td>M1G</td>\n      <td>Scarborough</td>\n      <td>Woburn</td>\n      <td>43.770992</td>\n      <td>-79.216917</td>\n    </tr>\n    <tr>\n      <th>22</th>\n      <td>M4G</td>\n      <td>East York</td>\n      <td>Leaside</td>\n      <td>43.709060</td>\n      <td>-79.363452</td>\n    </tr>\n    <tr>\n      <th>23</th>\n      <td>M5G</td>\n      <td>Downtown Toronto</td>\n      <td>Central Bay Street</td>\n      <td>43.657952</td>\n      <td>-79.387383</td>\n    </tr>\n    <tr>\n      <th>24</th>\n      <td>M6G</td>\n      <td>Downtown Toronto</td>\n      <td>Christie</td>\n      <td>43.669542</td>\n      <td>-79.422564</td>\n    </tr>\n    <tr>\n      <th>25</th>\n      <td>M1H</td>\n      <td>Scarborough</td>\n      <td>Cedarbrae</td>\n      <td>43.773136</td>\n      <td>-79.239476</td>\n    </tr>\n    <tr>\n      <th>26</th>\n      <td>M2H</td>\n      <td>North York</td>\n      <td>Hillcrest Village</td>\n      <td>43.803762</td>\n      <td>-79.363452</td>\n    </tr>\n    <tr>\n      <th>27</th>\n      <td>M3H</td>\n      <td>North York</td>\n      <td>Bathurst Manor,Downsview North,Wilson Heights</td>\n      <td>43.754328</td>\n      <td>-79.442259</td>\n    </tr>\n    <tr>\n      <th>28</th>\n      <td>M4H</td>\n      <td>East York</td>\n      <td>Thorncliffe Park</td>\n      <td>43.705369</td>\n      <td>-79.349372</td>\n    </tr>\n    <tr>\n      <th>29</th>\n      <td>M5H</td>\n      <td>Downtown Toronto</td>\n      <td>Adelaide,King,Richmond</td>\n      <td>43.650571</td>\n      <td>-79.384568</td>\n    </tr>\n    <tr>\n      <th>...</th>\n      <td>...</td>\n      <td>...</td>\n      <td>...</td>\n      <td>...</td>\n      <td>...</td>\n    </tr>\n    <tr>\n      <th>72</th>\n      <td>M4R</td>\n      <td>Central Toronto</td>\n      <td>North Toronto West</td>\n      <td>43.715383</td>\n      <td>-79.405678</td>\n    </tr>\n    <tr>\n      <th>73</th>\n      <td>M5R</td>\n      <td>Central Toronto</td>\n      <td>The Annex,North Midtown,Yorkville</td>\n      <td>43.672710</td>\n      <td>-79.405678</td>\n    </tr>\n    <tr>\n      <th>74</th>\n      <td>M6R</td>\n      <td>West Toronto</td>\n      <td>Parkdale,Roncesvalles</td>\n      <td>43.648960</td>\n      <td>-79.456325</td>\n    </tr>\n    <tr>\n      <th>75</th>\n      <td>M7R</td>\n      <td>Mississauga</td>\n      <td>Canada Post Gateway Processing Centre</td>\n      <td>43.636966</td>\n      <td>-79.615819</td>\n    </tr>\n    <tr>\n      <th>76</th>\n      <td>M9R</td>\n      <td>Etobicoke</td>\n      <td>Kingsview Village,Martin Grove Gardens,Richvie...</td>\n      <td>43.688905</td>\n      <td>-79.554724</td>\n    </tr>\n    <tr>\n      <th>77</th>\n      <td>M1S</td>\n      <td>Scarborough</td>\n      <td>Agincourt</td>\n      <td>43.794200</td>\n      <td>-79.262029</td>\n    </tr>\n    <tr>\n      <th>78</th>\n      <td>M4S</td>\n      <td>Central Toronto</td>\n      <td>Davisville</td>\n      <td>43.704324</td>\n      <td>-79.388790</td>\n    </tr>\n    <tr>\n      <th>79</th>\n      <td>M5S</td>\n      <td>Downtown Toronto</td>\n      <td>Harbord,University of Toronto</td>\n      <td>43.662696</td>\n      <td>-79.400049</td>\n    </tr>\n    <tr>\n      <th>80</th>\n      <td>M6S</td>\n      <td>West Toronto</td>\n      <td>Runnymede,Swansea</td>\n      <td>43.651571</td>\n      <td>-79.484450</td>\n    </tr>\n    <tr>\n      <th>81</th>\n      <td>M1T</td>\n      <td>Scarborough</td>\n      <td>Clarks Corners,Sullivan,Tam O'Shanter</td>\n      <td>43.781638</td>\n      <td>-79.304302</td>\n    </tr>\n    <tr>\n      <th>82</th>\n      <td>M4T</td>\n      <td>Central Toronto</td>\n      <td>Moore Park,Summerhill East</td>\n      <td>43.689574</td>\n      <td>-79.383160</td>\n    </tr>\n    <tr>\n      <th>83</th>\n      <td>M5T</td>\n      <td>Downtown Toronto</td>\n      <td>Chinatown,Grange Park,Kensington Market</td>\n      <td>43.653206</td>\n      <td>-79.400049</td>\n    </tr>\n    <tr>\n      <th>84</th>\n      <td>M1V</td>\n      <td>Scarborough</td>\n      <td>Agincourt North,L'Amoreaux East,Milliken,Steel...</td>\n      <td>43.815252</td>\n      <td>-79.284577</td>\n    </tr>\n    <tr>\n      <th>85</th>\n      <td>M4V</td>\n      <td>Central Toronto</td>\n      <td>Deer Park,Forest Hill SE,Rathnelly,South Hill,...</td>\n      <td>43.686412</td>\n      <td>-79.400049</td>\n    </tr>\n    <tr>\n      <th>86</th>\n      <td>M5V</td>\n      <td>Downtown Toronto</td>\n      <td>CN Tower,Bathurst Quay,Island airport,Harbourf...</td>\n      <td>43.628947</td>\n      <td>-79.394420</td>\n    </tr>\n    <tr>\n      <th>87</th>\n      <td>M8V</td>\n      <td>Etobicoke</td>\n      <td>Humber Bay Shores,Mimico South,New Toronto</td>\n      <td>43.605647</td>\n      <td>-79.501321</td>\n    </tr>\n    <tr>\n      <th>88</th>\n      <td>M9V</td>\n      <td>Etobicoke</td>\n      <td>Albion Gardens,Beaumond Heights,Humbergate,Jam...</td>\n      <td>43.739416</td>\n      <td>-79.588437</td>\n    </tr>\n    <tr>\n      <th>89</th>\n      <td>M1W</td>\n      <td>Scarborough</td>\n      <td>L'Amoreaux West,Steeles West</td>\n      <td>43.799525</td>\n      <td>-79.318389</td>\n    </tr>\n    <tr>\n      <th>90</th>\n      <td>M4W</td>\n      <td>Downtown Toronto</td>\n      <td>Rosedale</td>\n      <td>43.679563</td>\n      <td>-79.377529</td>\n    </tr>\n    <tr>\n      <th>91</th>\n      <td>M5W</td>\n      <td>Downtown Toronto</td>\n      <td>Stn A PO Boxes 25 The Esplanade</td>\n      <td>43.646435</td>\n      <td>-79.374846</td>\n    </tr>\n    <tr>\n      <th>92</th>\n      <td>M8W</td>\n      <td>Etobicoke</td>\n      <td>Alderwood,Long Branch</td>\n      <td>43.602414</td>\n      <td>-79.543484</td>\n    </tr>\n    <tr>\n      <th>93</th>\n      <td>M9W</td>\n      <td>Etobicoke</td>\n      <td>Northwest</td>\n      <td>43.706748</td>\n      <td>-79.594054</td>\n    </tr>\n    <tr>\n      <th>94</th>\n      <td>M1X</td>\n      <td>Scarborough</td>\n      <td>Upper Rouge</td>\n      <td>43.836125</td>\n      <td>-79.205636</td>\n    </tr>\n    <tr>\n      <th>95</th>\n      <td>M4X</td>\n      <td>Downtown Toronto</td>\n      <td>Cabbagetown,St. James Town</td>\n      <td>43.667967</td>\n      <td>-79.367675</td>\n    </tr>\n    <tr>\n      <th>96</th>\n      <td>M5X</td>\n      <td>Downtown Toronto</td>\n      <td>First Canadian Place,Underground city</td>\n      <td>43.648429</td>\n      <td>-79.382280</td>\n    </tr>\n    <tr>\n      <th>97</th>\n      <td>M8X</td>\n      <td>Etobicoke</td>\n      <td>The Kingsway,Montgomery Road,Old Mill North</td>\n      <td>43.653654</td>\n      <td>-79.506944</td>\n    </tr>\n    <tr>\n      <th>98</th>\n      <td>M4Y</td>\n      <td>Downtown Toronto</td>\n      <td>Church and Wellesley</td>\n      <td>43.665860</td>\n      <td>-79.383160</td>\n    </tr>\n    <tr>\n      <th>99</th>\n      <td>M7Y</td>\n      <td>East Toronto</td>\n      <td>Business Reply Mail Processing Centre 969 Eastern</td>\n      <td>43.662744</td>\n      <td>-79.321558</td>\n    </tr>\n    <tr>\n      <th>100</th>\n      <td>M8Y</td>\n      <td>Etobicoke</td>\n      <td>Humber Bay,King's Mill Park,Kingsway Park Sout...</td>\n      <td>43.636258</td>\n      <td>-79.498509</td>\n    </tr>\n    <tr>\n      <th>101</th>\n      <td>M8Z</td>\n      <td>Etobicoke</td>\n      <td>Kingsway Park South West,Mimico NW,The Queensw...</td>\n      <td>43.628841</td>\n      <td>-79.520999</td>\n    </tr>\n  </tbody>\n</table>\n<p>102 rows \u00d7 5 columns</p>\n</div>", 
                        "text/plain": "    postalcode           borough  \\\n0          M3A        North York   \n1          M4A        North York   \n2          M5A  Downtown Toronto   \n3          M6A        North York   \n4          M9A         Etobicoke   \n5          M1B       Scarborough   \n6          M3B        North York   \n7          M4B         East York   \n8          M5B  Downtown Toronto   \n9          M6B        North York   \n10         M9B         Etobicoke   \n11         M1C       Scarborough   \n12         M3C        North York   \n13         M4C         East York   \n14         M5C  Downtown Toronto   \n15         M6C              York   \n16         M9C         Etobicoke   \n17         M1E       Scarborough   \n18         M4E      East Toronto   \n19         M5E  Downtown Toronto   \n20         M6E              York   \n21         M1G       Scarborough   \n22         M4G         East York   \n23         M5G  Downtown Toronto   \n24         M6G  Downtown Toronto   \n25         M1H       Scarborough   \n26         M2H        North York   \n27         M3H        North York   \n28         M4H         East York   \n29         M5H  Downtown Toronto   \n..         ...               ...   \n72         M4R   Central Toronto   \n73         M5R   Central Toronto   \n74         M6R      West Toronto   \n75         M7R       Mississauga   \n76         M9R         Etobicoke   \n77         M1S       Scarborough   \n78         M4S   Central Toronto   \n79         M5S  Downtown Toronto   \n80         M6S      West Toronto   \n81         M1T       Scarborough   \n82         M4T   Central Toronto   \n83         M5T  Downtown Toronto   \n84         M1V       Scarborough   \n85         M4V   Central Toronto   \n86         M5V  Downtown Toronto   \n87         M8V         Etobicoke   \n88         M9V         Etobicoke   \n89         M1W       Scarborough   \n90         M4W  Downtown Toronto   \n91         M5W  Downtown Toronto   \n92         M8W         Etobicoke   \n93         M9W         Etobicoke   \n94         M1X       Scarborough   \n95         M4X  Downtown Toronto   \n96         M5X  Downtown Toronto   \n97         M8X         Etobicoke   \n98         M4Y  Downtown Toronto   \n99         M7Y      East Toronto   \n100        M8Y         Etobicoke   \n101        M8Z         Etobicoke   \n\n                                          neighborhood   latitude  longitude  \n0                                            Parkwoods  43.753259 -79.329656  \n1                                     Victoria Village  43.725882 -79.315572  \n2                             Harbourfront,Regent Park  43.654260 -79.360636  \n3                      Lawrence Heights,Lawrence Manor  43.718518 -79.464763  \n4                                     Islington Avenue  43.667856 -79.532242  \n5                                        Rouge,Malvern  43.806686 -79.194353  \n6                                      Don Mills North  43.745906 -79.352188  \n7                       Woodbine Gardens,Parkview Hill  43.706397 -79.309937  \n8                              Ryerson,Garden District  43.657162 -79.378937  \n9                                            Glencairn  43.709577 -79.445073  \n10   Cloverdale,Islington,Martin Grove,Princess Gar...  43.650943 -79.554724  \n11                Highland Creek,Rouge Hill,Port Union  43.784535 -79.160497  \n12                     Flemingdon Park,Don Mills South  43.725900 -79.340923  \n13                                    Woodbine Heights  43.695344 -79.318389  \n14                                      St. James Town  43.651494 -79.375418  \n15                                  Humewood-Cedarvale  43.693781 -79.428191  \n16   Bloordale Gardens,Eringate,Markland Wood,Old B...  43.643515 -79.577201  \n17                     Guildwood,Morningside,West Hill  43.763573 -79.188711  \n18                                         The Beaches  43.676357 -79.293031  \n19                                         Berczy Park  43.644771 -79.373306  \n20                                 Caledonia-Fairbanks  43.689026 -79.453512  \n21                                              Woburn  43.770992 -79.216917  \n22                                             Leaside  43.709060 -79.363452  \n23                                  Central Bay Street  43.657952 -79.387383  \n24                                            Christie  43.669542 -79.422564  \n25                                           Cedarbrae  43.773136 -79.239476  \n26                                   Hillcrest Village  43.803762 -79.363452  \n27       Bathurst Manor,Downsview North,Wilson Heights  43.754328 -79.442259  \n28                                    Thorncliffe Park  43.705369 -79.349372  \n29                              Adelaide,King,Richmond  43.650571 -79.384568  \n..                                                 ...        ...        ...  \n72                                  North Toronto West  43.715383 -79.405678  \n73                   The Annex,North Midtown,Yorkville  43.672710 -79.405678  \n74                               Parkdale,Roncesvalles  43.648960 -79.456325  \n75               Canada Post Gateway Processing Centre  43.636966 -79.615819  \n76   Kingsview Village,Martin Grove Gardens,Richvie...  43.688905 -79.554724  \n77                                           Agincourt  43.794200 -79.262029  \n78                                          Davisville  43.704324 -79.388790  \n79                       Harbord,University of Toronto  43.662696 -79.400049  \n80                                   Runnymede,Swansea  43.651571 -79.484450  \n81               Clarks Corners,Sullivan,Tam O'Shanter  43.781638 -79.304302  \n82                          Moore Park,Summerhill East  43.689574 -79.383160  \n83             Chinatown,Grange Park,Kensington Market  43.653206 -79.400049  \n84   Agincourt North,L'Amoreaux East,Milliken,Steel...  43.815252 -79.284577  \n85   Deer Park,Forest Hill SE,Rathnelly,South Hill,...  43.686412 -79.400049  \n86   CN Tower,Bathurst Quay,Island airport,Harbourf...  43.628947 -79.394420  \n87          Humber Bay Shores,Mimico South,New Toronto  43.605647 -79.501321  \n88   Albion Gardens,Beaumond Heights,Humbergate,Jam...  43.739416 -79.588437  \n89                        L'Amoreaux West,Steeles West  43.799525 -79.318389  \n90                                            Rosedale  43.679563 -79.377529  \n91                     Stn A PO Boxes 25 The Esplanade  43.646435 -79.374846  \n92                               Alderwood,Long Branch  43.602414 -79.543484  \n93                                           Northwest  43.706748 -79.594054  \n94                                         Upper Rouge  43.836125 -79.205636  \n95                          Cabbagetown,St. James Town  43.667967 -79.367675  \n96               First Canadian Place,Underground city  43.648429 -79.382280  \n97         The Kingsway,Montgomery Road,Old Mill North  43.653654 -79.506944  \n98                                Church and Wellesley  43.665860 -79.383160  \n99   Business Reply Mail Processing Centre 969 Eastern  43.662744 -79.321558  \n100  Humber Bay,King's Mill Park,Kingsway Park Sout...  43.636258 -79.498509  \n101  Kingsway Park South West,Mimico NW,The Queensw...  43.628841 -79.520999  \n\n[102 rows x 5 columns]"
                    }, 
                    "output_type": "execute_result"
                }
            ], 
            "source": "df_new"
        }, 
        {
            "execution_count": null, 
            "cell_type": "code", 
            "metadata": {}, 
            "outputs": [], 
            "source": ""
        }
    ], 
    "metadata": {
        "kernelspec": {
            "display_name": "Python 3.5", 
            "name": "python3", 
            "language": "python"
        }, 
        "language_info": {
            "mimetype": "text/x-python", 
            "nbconvert_exporter": "python", 
            "version": "3.5.5", 
            "name": "python", 
            "file_extension": ".py", 
            "pygments_lexer": "ipython3", 
            "codemirror_mode": {
                "version": 3, 
                "name": "ipython"
            }
        }
    }, 
    "nbformat": 4
}