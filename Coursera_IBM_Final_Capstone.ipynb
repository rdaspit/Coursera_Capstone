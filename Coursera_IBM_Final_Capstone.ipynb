{
    "nbformat_minor": 1, 
    "cells": [
        {
            "source": "## Coursera & IBM Final Capstone Project", 
            "cell_type": "markdown", 
            "metadata": {
                "collapsed": true
            }
        }, 
        {
            "source": "### Introduction / Business Problem Section", 
            "cell_type": "markdown", 
            "metadata": {}
        }, 
        {
            "source": "As part of the final capstone project, I aim to find the most favorable cities to locate (build/buy) a carwash facility. Criteria to locate such as facility location should take into account the size of the city (and possibly median income levels), annual precipitation amounts (rain or how many sunny days), as well as how many other carwash locations are in the city with a rating higher/lower than a criteria. Carwash facilities need enough customers with disposable income, enough sunny days, and not too much competition (higher rating). If there are a number of other carwash facilities in the city and the other factors are suitable, we will look more closely at the ratings to determine if we can have a higher quality experience and thus compete with the lower ranking carwash facilities. Based on the amount of data I might need to limit the states or regions we review.\n", 
            "cell_type": "markdown", 
            "metadata": {}
        }, 
        {
            "source": "### Data Section", 
            "cell_type": "markdown", 
            "metadata": {}
        }, 
        {
            "source": "Foursquare will be our main source for the mapping and ratings of the existing carwash facilities. I also intend to use US Census data to review median income for cities as well as US NOAA data to determine preciptation (rain) levels and possibly days to determine how many sunny days in a year per city. ", 
            "cell_type": "markdown", 
            "metadata": {}
        }, 
        {
            "execution_count": null, 
            "cell_type": "code", 
            "metadata": {}, 
            "outputs": [], 
            "source": ""
        }
    ], 
    "metadata": {
        "kernelspec": {
            "display_name": "Python 3.5", 
            "name": "python3", 
            "language": "python"
        }, 
        "language_info": {
            "mimetype": "text/x-python", 
            "nbconvert_exporter": "python", 
            "version": "3.5.5", 
            "name": "python", 
            "file_extension": ".py", 
            "pygments_lexer": "ipython3", 
            "codemirror_mode": {
                "version": 3, 
                "name": "ipython"
            }
        }
    }, 
    "nbformat": 4
}